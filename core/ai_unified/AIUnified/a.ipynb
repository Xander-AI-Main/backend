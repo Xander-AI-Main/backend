{
 "cells": [
  {
   "cell_type": "code",
   "execution_count": 1,
   "metadata": {},
   "outputs": [],
   "source": [
    "dataset_url = \"https://idesign-quotation.s3.ap-south-1.amazonaws.com/NO_COMPANYNAME/test09c48b9b-0e43-4b80-9b08-bf6fc28728de.csv\""
   ]
  },
  {
   "cell_type": "code",
   "execution_count": 4,
   "metadata": {},
   "outputs": [
    {
     "name": "stdout",
     "output_type": "stream",
     "text": [
      "{'regression': [{'archType': 'default', 'type': 'DL', 'architecture': [{'layer': 'Dense', 'neurons': 128, 'activation': 'relu', 'define_input_shape': 'true'}, {'layer': 'Dropout', 'ratio': 0.1}, {'layer': 'Dense', 'neurons': 64, 'activation': 'relu', 'define_input_shape': 'false'}, {'layer': 'Dropout', 'ratio': 0.1}, {'layer': 'Dense', 'neurons': 32, 'activation': 'relu', 'define_input_shape': 'false'}, {'layer': 'Dense', 'neurons': 1, 'define_input_shape': 'false'}], 'hyperparameters': {'epochs': 100, 'batch_size': 32, 'validation_size': 0.2}}, {'archType': '1', 'type': 'ML', 'architecture': [{'layer': 'Linear Regression'}], 'hyperparameters': {'fit_intercept': True, 'copy_X': True, 'n_jobs': None, 'positive': False}}, {'archType': '2', 'type': 'ML', 'architecture': [{'layer': 'XGBoost'}], 'hyperparameters': {'n_estimators': 100, 'max_depth': 6, 'learning_rate': 0.1, 'subsample': 1.0, 'colsample_bytree': 1.0, 'colsample_bylevel': 1.0, 'colsample_bynode': 1.0, 'gamma': 0, 'min_child_weight': 1, 'reg_alpha': 0, 'reg_lambda': 1, 'scale_pos_weight': 1, 'base_score': 0.5, 'random_state': 42, 'objective': 'reg:squarederror'}}, {'archType': '3', 'type': 'ML', 'architecture': [{'layer': 'AdaBoost'}], 'hyperparameters': {'n_estimators': 50, 'learning_rate': 1.0, 'loss': 'linear', 'random_state': 42}}], 'classification': [{'archType': 'default', 'type': 'DL', 'architecture': [{'layer': 'Dense', 'neurons': 128, 'activation': 'relu', 'define_input_shape': 'true'}, {'layer': 'Dropout', 'ratio': 0.1}, {'layer': 'Dense', 'neurons': 64, 'activation': 'relu', 'define_input_shape': 'false'}, {'layer': 'Dropout', 'ratio': 0.1}, {'layer': 'Dense', 'neurons': 32, 'activation': 'relu', 'define_input_shape': 'false'}, {'layer': 'Dense', 'neurons': 1, 'activation': 'sigmoid', 'define_input_shape': 'false'}], 'hyperparameters': {'epochs': 100, 'batch_size': 32, 'validation_size': 0.2}}, {'archType': '1', 'type': 'ML', 'architecture': [{'layer': 'Support Vector Machines'}], 'hyperparameters': {'n_estimators': 100, 'max_depth': 3, 'learning_rate': 0.1}}, {'archType': '2', 'type': 'ML', 'architecture': [{'layer': 'XGBoost'}], 'hyperparameters': {'C': 1.0, 'kernel': 'rbf'}}, {'archType': '3', 'type': 'ML', 'architecture': [{'layer': 'DecisionTree'}], 'hyperparameters': {'max_depth': 5}}], 'audio': [{'archType': 'default', 'type': 'DL', 'architecture': [{'layer': 'CoQui and GlowTTS'}], 'hyperparameters': {'batch_size': 64, 'epochs': 30}}], 'chatbot': [{'archType': 'default', 'type': 'DL', 'architecture': [{'layer': 'Sentence Transformers'}], 'hyperparameters': {}}], 'text': [{'archType': 'default', 'type': 'DL', 'architecture': [{'layer': 'Embedding', 'input_dim': 20000, 'output_dim': 100, 'input_length': 100}, {'layer': 'Bidirectional', 'units': 128, 'return_sequences': True, 'dropout': 0.3, 'recurrent_dropout': 0.3}, {'layer': 'Dropout', 'rate': 0.3}, {'layer': 'LSTM', 'units': 64, 'dropout': 0.3, 'recurrent_dropout': 0.3, 'kernel_regularizer': {'l2': 0.01}}, {'layer': 'Dense', 'units': 10, 'activation': 'softmax', 'kernel_regularizer': {'l2': 0.01}}], 'hyperparameters': {'epochs': 15, 'batch_size': 64, 'validation_split': 0.2}}], 'image': [{'archType': 'default', 'type': 'DL', 'architecture': [{'layer': 'Rescaling', 'define_input_shape': True, 'input_shape': [120, 120, 3]}, {'layer': 'Conv2D', 'filters': 64, 'kernel_size': [3, 3], 'activation': 'relu', 'define_input_shape': False}, {'layer': 'MaxPooling2D', 'pool_size': [2, 2], 'define_input_shape': False}, {'layer': 'Conv2D', 'filters': 64, 'kernel_size': [3, 3], 'activation': 'relu', 'define_input_shape': False}, {'layer': 'MaxPooling2D', 'pool_size': [2, 2], 'define_input_shape': False}, {'layer': 'Conv2D', 'filters': 32, 'kernel_size': [3, 3], 'activation': 'relu', 'define_input_shape': False}, {'layer': 'MaxPooling2D', 'pool_size': [2, 2], 'define_input_shape': False}, {'layer': 'Flatten', 'define_input_shape': False}, {'layer': 'Dense', 'neurons': 128, 'activation': 'relu', 'define_input_shape': False}], 'hyperparameters': {'epochs': 15, 'batch_size': 64}}]}\n"
     ]
    },
    {
     "name": "stderr",
     "output_type": "stream",
     "text": [
      "c:\\Users\\atuli\\OneDrive\\Desktop\\Xander-Corp\\backend_login\\core\\ai_unified\\AIUnified\\ClassificationDL.py:61: FutureWarning: The pandas.np module is deprecated and will be removed from pandas in a future version. Import numpy directly instead.\n",
      "  pd.np.triu(pd.np.ones(correlation_matrix.shape), k=1).astype(pd.np.bool_)\n",
      "c:\\Users\\atuli\\AppData\\Local\\Programs\\Python\\Python310\\lib\\site-packages\\keras\\src\\layers\\core\\dense.py:87: UserWarning: Do not pass an `input_shape`/`input_dim` argument to a layer. When using Sequential models, prefer using an `Input(shape)` object as the first layer in the model instead.\n",
      "  super().__init__(activity_regularizer=activity_regularizer, **kwargs)\n"
     ]
    },
    {
     "name": "stdout",
     "output_type": "stream",
     "text": [
      "       milage  fuel_type  engine  transmission  ext_col  int_col\n",
      "0       73000          2     544            33      220        8\n",
      "1      128032          2     410            26      187       10\n",
      "2       51983          2     311            20       26      107\n",
      "3       29500          2     911            42      220      107\n",
      "4       90000          2     633            26      220       10\n",
      "...       ...        ...     ...           ...      ...      ...\n",
      "36178    4500          2     807             2       88       10\n",
      "36179  185000          2     473             7      163       53\n",
      "36180  116000          2      30            11       12       53\n",
      "36181   39000          2     843             2       17       82\n",
      "36182  162731          1     601            33       17       10\n",
      "\n",
      "[36183 rows x 6 columns]\n",
      "0.0528137168269368\n",
      "6\n"
     ]
    },
    {
     "name": "stderr",
     "output_type": "stream",
     "text": [
      "c:\\Users\\atuli\\AppData\\Local\\Programs\\Python\\Python310\\lib\\site-packages\\keras\\src\\ops\\nn.py:545: UserWarning: You are using a softmax over axis -1 of a tensor of shape (None, 1). This axis has size 1. The softmax operation will always return the value 1, which is likely not what you intended. Did you mean to use a sigmoid instead?\n",
      "  warnings.warn(\n"
     ]
    },
    {
     "name": "stdout",
     "output_type": "stream",
     "text": [
      "Epoch 1: Train Loss: 0.2490, Train Acc: 0.0000, Test Loss: 0.0000, Test Acc: 0.0000\n",
      "Epoch 2: Train Loss: 0.0000, Train Acc: 0.0000, Test Loss: 0.0000, Test Acc: 0.0000\n",
      "Epoch 3: Train Loss: 0.0000, Train Acc: 0.0000, Test Loss: 0.0000, Test Acc: 0.0000\n",
      "Epoch 4: Train Loss: 0.0000, Train Acc: 0.0000, Test Loss: 0.0000, Test Acc: 0.0000\n",
      "Epoch 5: Train Loss: 0.0000, Train Acc: 0.0000, Test Loss: 0.0000, Test Acc: 0.0000\n",
      "Epoch 6: Train Loss: 0.0000, Train Acc: 0.0000, Test Loss: 0.0000, Test Acc: 0.0000\n",
      "Epoch 7: Train Loss: 0.0000, Train Acc: 0.0000, Test Loss: 0.0000, Test Acc: 0.0000\n",
      "Epoch 8: Train Loss: 0.0000, Train Acc: 0.0000, Test Loss: 0.0000, Test Acc: 0.0000\n",
      "Epoch 9: Train Loss: 0.0000, Train Acc: 0.0000, Test Loss: 0.0000, Test Acc: 0.0000\n",
      "Epoch 10: Train Loss: 0.0000, Train Acc: 0.0000, Test Loss: 0.0000, Test Acc: 0.0000\n",
      "Epoch 11: Train Loss: 0.0000, Train Acc: 0.0000, Test Loss: 0.0000, Test Acc: 0.0000\n",
      "Epoch 12: Train Loss: 0.0000, Train Acc: 0.0000, Test Loss: 0.0000, Test Acc: 0.0000\n",
      "Epoch 13: Train Loss: 0.0000, Train Acc: 0.0000, Test Loss: 0.0000, Test Acc: 0.0000\n",
      "Epoch 14: Train Loss: 0.0000, Train Acc: 0.0000, Test Loss: 0.0000, Test Acc: 0.0000\n",
      "Epoch 15: Train Loss: 0.0000, Train Acc: 0.0000, Test Loss: 0.0000, Test Acc: 0.0000\n",
      "Epoch 16: Train Loss: 0.0000, Train Acc: 0.0000, Test Loss: 0.0000, Test Acc: 0.0000\n",
      "Epoch 17: Train Loss: 0.0000, Train Acc: 0.0000, Test Loss: 0.0000, Test Acc: 0.0000\n",
      "Epoch 18: Train Loss: 0.0000, Train Acc: 0.0000, Test Loss: 0.0000, Test Acc: 0.0000\n",
      "Epoch 19: Train Loss: 0.0000, Train Acc: 0.0000, Test Loss: 0.0000, Test Acc: 0.0000\n",
      "Epoch 20: Train Loss: 0.0000, Train Acc: 0.0000, Test Loss: 0.0000, Test Acc: 0.0000\n",
      "Epoch 21: Train Loss: 0.0000, Train Acc: 0.0000, Test Loss: 0.0000, Test Acc: 0.0000\n",
      "Epoch 22: Train Loss: 0.0000, Train Acc: 0.0000, Test Loss: 0.0000, Test Acc: 0.0000\n",
      "Epoch 23: Train Loss: 0.0000, Train Acc: 0.0000, Test Loss: 0.0000, Test Acc: 0.0000\n",
      "Epoch 24: Train Loss: 0.0000, Train Acc: 0.0000, Test Loss: 0.0000, Test Acc: 0.0000\n",
      "Epoch 25: Train Loss: 0.0000, Train Acc: 0.0000, Test Loss: 0.0000, Test Acc: 0.0000\n",
      "Epoch 26: Train Loss: 0.0000, Train Acc: 0.0000, Test Loss: 0.0000, Test Acc: 0.0000\n",
      "Epoch 27: Train Loss: 0.0000, Train Acc: 0.0000, Test Loss: 0.0000, Test Acc: 0.0000\n",
      "Epoch 28: Train Loss: 0.0000, Train Acc: 0.0000, Test Loss: 0.0000, Test Acc: 0.0000\n",
      "Epoch 29: Train Loss: 0.0000, Train Acc: 0.0000, Test Loss: 0.0000, Test Acc: 0.0000\n",
      "Epoch 30: Train Loss: 0.0000, Train Acc: 0.0000, Test Loss: 0.0000, Test Acc: 0.0000\n",
      "Epoch 31: Train Loss: 0.0000, Train Acc: 0.0000, Test Loss: 0.0000, Test Acc: 0.0000\n",
      "Epoch 32: Train Loss: 0.0000, Train Acc: 0.0000, Test Loss: 0.0000, Test Acc: 0.0000\n",
      "Epoch 33: Train Loss: 0.0000, Train Acc: 0.0000, Test Loss: 0.0000, Test Acc: 0.0000\n",
      "Epoch 34: Train Loss: 0.0000, Train Acc: 0.0000, Test Loss: 0.0000, Test Acc: 0.0000\n",
      "Epoch 35: Train Loss: 0.0000, Train Acc: 0.0000, Test Loss: 0.0000, Test Acc: 0.0000\n",
      "Epoch 36: Train Loss: 0.0000, Train Acc: 0.0000, Test Loss: 0.0000, Test Acc: 0.0000\n",
      "Epoch 37: Train Loss: 0.0000, Train Acc: 0.0000, Test Loss: 0.0000, Test Acc: 0.0000\n",
      "Epoch 38: Train Loss: 0.0000, Train Acc: 0.0000, Test Loss: 0.0000, Test Acc: 0.0000\n",
      "Epoch 39: Train Loss: 0.0000, Train Acc: 0.0000, Test Loss: 0.0000, Test Acc: 0.0000\n",
      "Epoch 40: Train Loss: 0.0000, Train Acc: 0.0000, Test Loss: 0.0000, Test Acc: 0.0000\n",
      "Epoch 41: Train Loss: 0.0000, Train Acc: 0.0000, Test Loss: 0.0000, Test Acc: 0.0000\n",
      "Epoch 42: Train Loss: 0.0000, Train Acc: 0.0000, Test Loss: 0.0000, Test Acc: 0.0000\n",
      "Epoch 43: Train Loss: 0.0000, Train Acc: 0.0000, Test Loss: 0.0000, Test Acc: 0.0000\n",
      "Epoch 44: Train Loss: 0.0000, Train Acc: 0.0000, Test Loss: 0.0000, Test Acc: 0.0000\n",
      "Epoch 45: Train Loss: 0.0000, Train Acc: 0.0000, Test Loss: 0.0000, Test Acc: 0.0000\n",
      "Epoch 46: Train Loss: 0.0000, Train Acc: 0.0000, Test Loss: 0.0000, Test Acc: 0.0000\n",
      "Epoch 47: Train Loss: 0.0000, Train Acc: 0.0000, Test Loss: 0.0000, Test Acc: 0.0000\n",
      "Epoch 48: Train Loss: 0.0000, Train Acc: 0.0000, Test Loss: 0.0000, Test Acc: 0.0000\n",
      "Epoch 49: Train Loss: 0.0000, Train Acc: 0.0000, Test Loss: 0.0000, Test Acc: 0.0000\n",
      "Epoch 50: Train Loss: 0.0000, Train Acc: 0.0000, Test Loss: 0.0000, Test Acc: 0.0000\n",
      "Epoch 51: Train Loss: 0.0000, Train Acc: 0.0000, Test Loss: 0.0000, Test Acc: 0.0000\n",
      "Epoch 52: Train Loss: 0.0000, Train Acc: 0.0000, Test Loss: 0.0000, Test Acc: 0.0000\n",
      "Epoch 53: Train Loss: 0.0000, Train Acc: 0.0000, Test Loss: 0.0000, Test Acc: 0.0000\n",
      "Epoch 54: Train Loss: 0.0000, Train Acc: 0.0000, Test Loss: 0.0000, Test Acc: 0.0000\n",
      "Epoch 55: Train Loss: 0.0000, Train Acc: 0.0000, Test Loss: 0.0000, Test Acc: 0.0000\n",
      "Epoch 56: Train Loss: 0.0000, Train Acc: 0.0000, Test Loss: 0.0000, Test Acc: 0.0000\n",
      "Epoch 57: Train Loss: 0.0000, Train Acc: 0.0000, Test Loss: 0.0000, Test Acc: 0.0000\n",
      "Epoch 58: Train Loss: 0.0000, Train Acc: 0.0000, Test Loss: 0.0000, Test Acc: 0.0000\n",
      "Epoch 59: Train Loss: 0.0000, Train Acc: 0.0000, Test Loss: 0.0000, Test Acc: 0.0000\n",
      "Epoch 60: Train Loss: 0.0000, Train Acc: 0.0000, Test Loss: 0.0000, Test Acc: 0.0000\n",
      "Epoch 61: Train Loss: 0.0000, Train Acc: 0.0000, Test Loss: 0.0000, Test Acc: 0.0000\n",
      "Epoch 62: Train Loss: 0.0000, Train Acc: 0.0000, Test Loss: 0.0000, Test Acc: 0.0000\n",
      "Epoch 63: Train Loss: 0.0000, Train Acc: 0.0000, Test Loss: 0.0000, Test Acc: 0.0000\n",
      "Epoch 64: Train Loss: 0.0000, Train Acc: 0.0000, Test Loss: 0.0000, Test Acc: 0.0000\n",
      "Epoch 65: Train Loss: 0.0000, Train Acc: 0.0000, Test Loss: 0.0000, Test Acc: 0.0000\n",
      "Epoch 66: Train Loss: 0.0000, Train Acc: 0.0000, Test Loss: 0.0000, Test Acc: 0.0000\n",
      "Epoch 67: Train Loss: 0.0000, Train Acc: 0.0000, Test Loss: 0.0000, Test Acc: 0.0000\n",
      "Epoch 68: Train Loss: 0.0000, Train Acc: 0.0000, Test Loss: 0.0000, Test Acc: 0.0000\n",
      "Epoch 69: Train Loss: 0.0000, Train Acc: 0.0000, Test Loss: 0.0000, Test Acc: 0.0000\n",
      "Epoch 70: Train Loss: 0.0000, Train Acc: 0.0000, Test Loss: 0.0000, Test Acc: 0.0000\n",
      "Epoch 71: Train Loss: 0.0000, Train Acc: 0.0000, Test Loss: 0.0000, Test Acc: 0.0000\n",
      "Epoch 72: Train Loss: 0.0000, Train Acc: 0.0000, Test Loss: 0.0000, Test Acc: 0.0000\n",
      "Epoch 73: Train Loss: 0.0000, Train Acc: 0.0000, Test Loss: 0.0000, Test Acc: 0.0000\n",
      "Epoch 74: Train Loss: 0.0000, Train Acc: 0.0000, Test Loss: 0.0000, Test Acc: 0.0000\n",
      "Epoch 75: Train Loss: 0.0000, Train Acc: 0.0000, Test Loss: 0.0000, Test Acc: 0.0000\n",
      "Epoch 76: Train Loss: 0.0000, Train Acc: 0.0000, Test Loss: 0.0000, Test Acc: 0.0000\n",
      "Epoch 77: Train Loss: 0.0000, Train Acc: 0.0000, Test Loss: 0.0000, Test Acc: 0.0000\n"
     ]
    }
   ],
   "source": []
  },
  {
   "cell_type": "code",
   "execution_count": null,
   "metadata": {},
   "outputs": [],
   "source": []
  }
 ],
 "metadata": {
  "kernelspec": {
   "display_name": "Python 3",
   "language": "python",
   "name": "python3"
  },
  "language_info": {
   "codemirror_mode": {
    "name": "ipython",
    "version": 3
   },
   "file_extension": ".py",
   "mimetype": "text/x-python",
   "name": "python",
   "nbconvert_exporter": "python",
   "pygments_lexer": "ipython3",
   "version": "3.10.11"
  }
 },
 "nbformat": 4,
 "nbformat_minor": 2
}
